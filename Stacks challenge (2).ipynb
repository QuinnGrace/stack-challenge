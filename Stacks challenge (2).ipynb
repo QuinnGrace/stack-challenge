{
 "cells": [
  {
   "cell_type": "markdown",
   "metadata": {},
   "source": [
    "##### This program checks if a string of brackets is both balanced and matched.\n",
    "##### ({[]}) is balanced and matched\n",
    "##### (((}]) is balanced and unmatched\n",
    "##### {[)}]] is unbalanced and unmatched"
   ]
  },
  {
   "cell_type": "code",
   "execution_count": 1,
   "metadata": {},
   "outputs": [],
   "source": [
    "class Stack():\n",
    "    \n",
    "    def __init__(self):\n",
    "        self.list_stack = []\n",
    "        \n",
    "    def is_empty(self):\n",
    "        if not self.list_stack:\n",
    "            return True\n",
    "        else:\n",
    "            return False\n",
    "        \n",
    "    def push(self,item):\n",
    "        self.list_stack.append(item)\n",
    "        \n",
    "    def pop(self):\n",
    "        return self.list_stack.pop()\n",
    "    \n",
    "#Checks if empty and shows top of stack    \n",
    "    def peek(self):\n",
    "        \n",
    "        if self.list_stack == []:\n",
    "            print(\"They balance and match!\")\n",
    "            exit()\n",
    "        else:\n",
    "            return self.list_stack[-1]\n",
    "\n",
    "        \n",
    "#Changes how it is printed        \n",
    "    def __repr__(self):\n",
    "        return repr(self.list_stack)\n",
    "        "
   ]
  },
  {
   "cell_type": "code",
   "execution_count": 2,
   "metadata": {},
   "outputs": [
    {
     "name": "stdout",
     "output_type": "stream",
     "text": [
      "Please enter the string of brackets to be checked --> ((((\n"
     ]
    }
   ],
   "source": [
    "bracket_d = {\"(\":\")\", \"[\":\"]\", \"{\":\"}\"}\n",
    "bracket_string = input(\"Please enter the string of brackets to be checked --> \")\n",
    "\n",
    "def Convert(string):\n",
    "    list1 = []\n",
    "    list1[:0] = string\n",
    "    return list1\n",
    "\n",
    "bracket_string = Convert(bracket_string)"
   ]
  },
  {
   "cell_type": "markdown",
   "metadata": {},
   "source": [
    "### Find out length of input and check if even to see if number of brackets match"
   ]
  },
  {
   "cell_type": "code",
   "execution_count": 3,
   "metadata": {},
   "outputs": [
    {
     "name": "stdout",
     "output_type": "stream",
     "text": [
      "4\n",
      "2\n"
     ]
    }
   ],
   "source": [
    "string_length = len(bracket_string)\n",
    "print(string_length)\n",
    "\n",
    "if string_length % 2 == 1:\n",
    "    print(\"The brackets are not balanced and do not match.\")\n",
    "    exit()\n",
    "else:\n",
    "    half_string_length = string_length / 2\n",
    "    half_string_length = int(half_string_length)\n",
    "    print(half_string_length)"
   ]
  },
  {
   "cell_type": "markdown",
   "metadata": {},
   "source": [
    "### Halve the stacks"
   ]
  },
  {
   "cell_type": "code",
   "execution_count": 4,
   "metadata": {},
   "outputs": [
    {
     "name": "stdout",
     "output_type": "stream",
     "text": [
      "['(', '(', '(', '(']\n"
     ]
    }
   ],
   "source": [
    "stack_1 = Stack()\n",
    "stack_1.list_stack = bracket_string\n",
    "stack_2 = Stack() \n",
    "print(stack_1)\n",
    "for i in range(half_string_length):\n",
    "    stack_2.push(stack_1.pop())   "
   ]
  },
  {
   "cell_type": "markdown",
   "metadata": {},
   "source": [
    "### Compare the stacks"
   ]
  },
  {
   "cell_type": "code",
   "execution_count": 5,
   "metadata": {},
   "outputs": [
    {
     "name": "stdout",
     "output_type": "stream",
     "text": [
      "They do not match!\n",
      "They do not match!\n"
     ]
    }
   ],
   "source": [
    "for j in range(half_string_length):\n",
    "    tempvar_1 = stack_1.peek()\n",
    "    tempvar_2 = stack_2.peek()\n",
    "    if bracket_d.get(tempvar_1) == tempvar_2:\n",
    "        stack_1.pop()\n",
    "        stack_2.pop()\n",
    "        stack_1.peek()\n",
    "    else:\n",
    "        print(\"They do not match!\")\n",
    "    "
   ]
  },
  {
   "cell_type": "markdown",
   "metadata": {},
   "source": [
    "#### This was done as part of the 365 Data Science course work. Most of the Stack() class was taken from the lecture with thanks to Giles McMullen-Klein"
   ]
  },
  {
   "cell_type": "code",
   "execution_count": null,
   "metadata": {},
   "outputs": [],
   "source": []
  }
 ],
 "metadata": {
  "kernelspec": {
   "display_name": "Python 3",
   "language": "python",
   "name": "python3"
  },
  "language_info": {
   "codemirror_mode": {
    "name": "ipython",
    "version": 3
   },
   "file_extension": ".py",
   "mimetype": "text/x-python",
   "name": "python",
   "nbconvert_exporter": "python",
   "pygments_lexer": "ipython3",
   "version": "3.8.5"
  }
 },
 "nbformat": 4,
 "nbformat_minor": 4
}
